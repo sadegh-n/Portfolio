{
 "cells": [
  {
   "cell_type": "code",
   "execution_count": 11,
   "metadata": {
    "colab": {
     "base_uri": "https://localhost:8080/"
    },
    "id": "edkHrJkGjX7V",
    "outputId": "df650a52-1b10-4501-c245-71338283476b",
    "tags": []
   },
   "outputs": [],
   "source": [
    "import numpy as np\n",
    "import pandas as pd\n",
    "import geopandas as gpd\n",
    "import plotly.express as px\n",
    "import plotly.graph_objects as go\n",
    "import dash\n",
    "import dash_bootstrap_components as dbc\n",
    "from dash import dcc\n",
    "from dash.dependencies import Input, Output\n",
    "import textwrap"
   ]
  },
  {
   "cell_type": "code",
   "execution_count": 12,
   "metadata": {
    "id": "FtXVo-0Ale7g"
   },
   "outputs": [],
   "source": [
    "df = pd.read_excel('data.xlsx', sheet_name='Sheet1')\n",
    "df2 = pd.read_excel('data.xlsx', sheet_name='Sheet2')\n",
    "df3 = pd.read_excel('data.xlsx', sheet_name='Sheet3')\n",
    "df = df.rename(columns={'Unnamed: 0' : 'State', 'Average of Denial_Rate' : '% of Claims Denied'})\n",
    "df = df.round({'% of Claims Denied': 2})\n",
    "df2 = df2.rename(columns=lambda x: x.strip())\n",
    "df2 = df2.rename(columns = {'Number_Internal_Appeals_Overturned' : 'Overturned Appeals','Internal_Appeals_Upheld' : 'Upheld Appeals'})\n",
    "df3 = df3.rename(columns=lambda x: x.strip())\n",
    "df = pd.concat([df, pd.Series({'State' : 'CA', '% of Claims Denied' : 0.21}).to_frame().T], ignore_index=True)\n",
    "df2 = pd.concat([df2, pd.Series({'State' : 'CA', 'Internal_Appeals_Filed' : 16490, \n",
    "                           'Overturned Appeals' : 6309, 'Upheld Appeals' : 16490-6309}).to_frame().T], ignore_index=True)\n",
    "df['% of Claims Denied'] = df['% of Claims Denied'].astype(float)\n",
    "df.sort_values(by='State', inplace=True)\n",
    "df.reset_index(drop=True, inplace=True)\n",
    "df2.sort_values(by='State', inplace=True)"
   ]
  },
  {
   "cell_type": "code",
   "execution_count": 13,
   "metadata": {},
   "outputs": [],
   "source": [
    "il_df = pd.read_excel('California Denied Claims.xlsx', 'Sheet1')\n",
    "pl_df = pd.read_excel('California Denied Claims.xlsx', 'Sheet2')\n",
    "pl_df2 = pl_df.transpose(copy=True)\n",
    "il_df2 = il_df.transpose(copy=True)\n",
    "il_df2.columns = il_df2.iloc[0]\n",
    "il_df2 = il_df2.iloc[1:]\n",
    "pl_df2.columns = pl_df2.iloc[0]\n",
    "pl_df2 = pl_df2.iloc[1:]\n",
    "\n",
    "il_df2.drop(['Issuer HIOS ID*', 'In-Network Claims That Were Denied ', 'In-Network Claims That Were Received ',\n",
    "            'In-Network Claims That Were Resubmitted ', 'Out-of-Network Claims That Were Denied ',\n",
    "            'Out-of-Network Claims That Were Received ', 'Out-of-Network Claims That Were Resubmitted '], axis=1, inplace=True)\n",
    "\n",
    "pl_df2.drop([' In Network Claims That Were Received in 2023', ' In Network Claims with That Were Denied in 2023',\n",
    "            ' In Network Claims That Were Resubmitted in 2023', ' Out-of-Network Claims That Were Received in 2023',\n",
    "            ' Out-of-Network Claims That Were Denied in 2023', ' Out-of-Network Claims That Were Resubmitted in 2023'], axis=1, inplace=True)\n",
    "pl_df2 = pl_df2.iloc[:, 3:]\n",
    "pl_df2.insert(0, 'State', 'CA')\n",
    "pl_df2.rename(columns = {' Prior Authorization or Referral Required ': 'Referral Required',\n",
    "                        ' Exclusion of a Service ' : 'Services Excluded', \n",
    "                        ' Lack of Medical Necessity, excluding Behavioral Health ' : 'Not Medically Necessary Excluding Behavioral Health',\n",
    "                        ' an Out-Of-Network Provider/Claims ' : 'Out Of Network',\n",
    "                        ' Lack of Medical Necessity, Behavioral Health only' : 'Not Medically Necessary Only Behavioral Health',\n",
    "                        ' Enrollee Benefit Limit Reached ' : 'Enrollee Benefit Limit Reached',\n",
    "                        ' Member Not Covered During All or Part of Date of Service ' : 'Member Not Covered',\n",
    "                        ' Investigational, Experimental, or Cosmetic Procedure ' : 'Investigational Experimental Cosmetic Procedure',\n",
    "                        ' Administrative Reasons ' : 'Administrative Reason',\n",
    "                        'Other Reasons ' : 'Other'}, inplace=True)\n",
    "pl_df2['Not Medically Necessary'] = pl_df2['Not Medically Necessary Excluding Behavioral Health'] + pl_df2['Not Medically Necessary Only Behavioral Health']\n",
    "pl_df2.columns.name = None\n",
    "df3 = pd.concat([df3, pl_df2])\n",
    "df3.sort_values(by='State', inplace=True)\n",
    "df3.reset_index(drop=True, inplace=True)"
   ]
  },
  {
   "cell_type": "code",
   "execution_count": 14,
   "metadata": {
    "id": "j18qbc18mH00"
   },
   "outputs": [],
   "source": [
    "states = gpd.read_file(\"states.shp\")\n",
    "def choropleth_plot():\n",
    "    fig = px.choropleth(df,\n",
    "                    locations=df['State'],\n",
    "                    locationmode=\"USA-states\",\n",
    "                    color=df['% of Claims Denied'] * 100,\n",
    "                    color_continuous_scale=\"Viridis\",\n",
    "                    scope=\"usa\",\n",
    "                    title='Denial Rate of Claims Per State (2023)')\n",
    "    fig.add_annotation(\n",
    "      text=\"Centers for Medicare & Medicaid Services,  \\\"Transparency in Coverage PUF (TC-PUF)\\\", 2023, <br> \\\n",
    "      https://www.cms.gov/marketplace/resources/data/public-use-files\",\n",
    "      xref=\"paper\", yref=\"paper\",\n",
    "      x=0.75, y=-0.1,\n",
    "      showarrow=False,\n",
    "      xanchor=\"right\", yanchor=\"bottom\")\n",
    "    fig.update_layout(title = {'x': 0.25, 'y': 0.95},\n",
    "                      margin = dict(t=50, r=25,  l=25),\n",
    "                      coloraxis_colorbar_title_text = '% of Claims Denied')\n",
    "    fig.update_traces(customdata=np.stack((df['State'], (df['% of Claims Denied'] * 100).round()), axis=-1),\n",
    "                      hovertemplate='<br>'.join([\n",
    "                      \"State: %{customdata[0]}\",\n",
    "                      \"Percent: %{customdata[1]}\"\n",
    "                      ]))\n",
    "    return fig"
   ]
  },
  {
   "cell_type": "code",
   "execution_count": 15,
   "metadata": {
    "colab": {
     "base_uri": "https://localhost:8080/",
     "height": 542
    },
    "id": "SI5HT0dow92H",
    "outputId": "ea6496e9-7991-437e-971b-035f720ba392"
   },
   "outputs": [
    {
     "data": {
      "application/vnd.plotly.v1+json": {
       "config": {
        "plotlyServerURL": "https://plot.ly"
       },
       "data": [
        {
         "alignmentgroup": "True",
         "hovertemplate": "Appeal Outcome=Overturned Appeals<br>State=%{x}<br>Number of Appeals (Scaled Logarithmically)=%{y}<extra></extra>",
         "legendgroup": "Overturned Appeals",
         "marker": {
          "color": "#636efa",
          "pattern": {
           "shape": ""
          }
         },
         "name": "Overturned Appeals",
         "offsetgroup": "Overturned Appeals",
         "orientation": "v",
         "showlegend": true,
         "textposition": "auto",
         "type": "bar",
         "x": [
          "AK",
          "AL",
          "AR",
          "AZ",
          "CA",
          "DE",
          "FL",
          "HI",
          "IA",
          "IL",
          "IN",
          "KS",
          "LA",
          "MI",
          "MO",
          "MS",
          "MT",
          "NC",
          "ND",
          "NE",
          "NH",
          "OH",
          "OK",
          "OR",
          "SC",
          "SD",
          "TN",
          "TX",
          "UT",
          "WI",
          "WV",
          "WY"
         ],
         "xaxis": "x",
         "y": [
          125,
          1053,
          3518,
          4044,
          6309,
          58,
          104206,
          38,
          1170,
          1494,
          406,
          1259,
          721,
          628,
          872,
          538,
          607,
          2171,
          148,
          1330,
          416,
          3402,
          1431,
          1495,
          1762,
          311,
          2640,
          26148,
          1698,
          695,
          19,
          566
         ],
         "yaxis": "y"
        },
        {
         "alignmentgroup": "True",
         "hovertemplate": "Appeal Outcome=Upheld Appeals<br>State=%{x}<br>Number of Appeals (Scaled Logarithmically)=%{y}<extra></extra>",
         "legendgroup": "Upheld Appeals",
         "marker": {
          "color": "#EF553B",
          "pattern": {
           "shape": ""
          }
         },
         "name": "Upheld Appeals",
         "offsetgroup": "Upheld Appeals",
         "orientation": "v",
         "showlegend": true,
         "textposition": "auto",
         "type": "bar",
         "x": [
          "AK",
          "AL",
          "AR",
          "AZ",
          "CA",
          "DE",
          "FL",
          "HI",
          "IA",
          "IL",
          "IN",
          "KS",
          "LA",
          "MI",
          "MO",
          "MS",
          "MT",
          "NC",
          "ND",
          "NE",
          "NH",
          "OH",
          "OK",
          "OR",
          "SC",
          "SD",
          "TN",
          "TX",
          "UT",
          "WI",
          "WV",
          "WY"
         ],
         "xaxis": "x",
         "y": [
          127,
          1492,
          7505,
          4372,
          10181,
          138,
          130349,
          44,
          1521,
          2826,
          574,
          1465,
          1591,
          817,
          1206,
          663,
          2021,
          3322,
          157,
          1728,
          295,
          3977,
          2841,
          3889,
          2346,
          212,
          3260,
          26946,
          3714,
          872,
          58,
          1065
         ],
         "yaxis": "y"
        }
       ],
       "layout": {
        "annotations": [
         {
          "showarrow": false,
          "text": "Centers for Medicare & Medicaid Services,  \"Transparency in Coverage PUF (TC-PUF)\", 2023, <br>     https://www.cms.gov/marketplace/resources/data/public-use-files",
          "x": 1.19,
          "xanchor": "right",
          "xref": "paper",
          "y": -0.3,
          "yanchor": "bottom",
          "yref": "paper"
         }
        ],
        "autosize": true,
        "barmode": "group",
        "legend": {
         "title": {
          "text": "Appeal Outcome"
         },
         "tracegroupgap": 0
        },
        "template": {
         "data": {
          "bar": [
           {
            "error_x": {
             "color": "#2a3f5f"
            },
            "error_y": {
             "color": "#2a3f5f"
            },
            "marker": {
             "line": {
              "color": "#E5ECF6",
              "width": 0.5
             },
             "pattern": {
              "fillmode": "overlay",
              "size": 10,
              "solidity": 0.2
             }
            },
            "type": "bar"
           }
          ],
          "barpolar": [
           {
            "marker": {
             "line": {
              "color": "#E5ECF6",
              "width": 0.5
             },
             "pattern": {
              "fillmode": "overlay",
              "size": 10,
              "solidity": 0.2
             }
            },
            "type": "barpolar"
           }
          ],
          "carpet": [
           {
            "aaxis": {
             "endlinecolor": "#2a3f5f",
             "gridcolor": "white",
             "linecolor": "white",
             "minorgridcolor": "white",
             "startlinecolor": "#2a3f5f"
            },
            "baxis": {
             "endlinecolor": "#2a3f5f",
             "gridcolor": "white",
             "linecolor": "white",
             "minorgridcolor": "white",
             "startlinecolor": "#2a3f5f"
            },
            "type": "carpet"
           }
          ],
          "choropleth": [
           {
            "colorbar": {
             "outlinewidth": 0,
             "ticks": ""
            },
            "type": "choropleth"
           }
          ],
          "contour": [
           {
            "colorbar": {
             "outlinewidth": 0,
             "ticks": ""
            },
            "colorscale": [
             [
              0,
              "#0d0887"
             ],
             [
              0.1111111111111111,
              "#46039f"
             ],
             [
              0.2222222222222222,
              "#7201a8"
             ],
             [
              0.3333333333333333,
              "#9c179e"
             ],
             [
              0.4444444444444444,
              "#bd3786"
             ],
             [
              0.5555555555555556,
              "#d8576b"
             ],
             [
              0.6666666666666666,
              "#ed7953"
             ],
             [
              0.7777777777777778,
              "#fb9f3a"
             ],
             [
              0.8888888888888888,
              "#fdca26"
             ],
             [
              1,
              "#f0f921"
             ]
            ],
            "type": "contour"
           }
          ],
          "contourcarpet": [
           {
            "colorbar": {
             "outlinewidth": 0,
             "ticks": ""
            },
            "type": "contourcarpet"
           }
          ],
          "heatmap": [
           {
            "colorbar": {
             "outlinewidth": 0,
             "ticks": ""
            },
            "colorscale": [
             [
              0,
              "#0d0887"
             ],
             [
              0.1111111111111111,
              "#46039f"
             ],
             [
              0.2222222222222222,
              "#7201a8"
             ],
             [
              0.3333333333333333,
              "#9c179e"
             ],
             [
              0.4444444444444444,
              "#bd3786"
             ],
             [
              0.5555555555555556,
              "#d8576b"
             ],
             [
              0.6666666666666666,
              "#ed7953"
             ],
             [
              0.7777777777777778,
              "#fb9f3a"
             ],
             [
              0.8888888888888888,
              "#fdca26"
             ],
             [
              1,
              "#f0f921"
             ]
            ],
            "type": "heatmap"
           }
          ],
          "heatmapgl": [
           {
            "colorbar": {
             "outlinewidth": 0,
             "ticks": ""
            },
            "colorscale": [
             [
              0,
              "#0d0887"
             ],
             [
              0.1111111111111111,
              "#46039f"
             ],
             [
              0.2222222222222222,
              "#7201a8"
             ],
             [
              0.3333333333333333,
              "#9c179e"
             ],
             [
              0.4444444444444444,
              "#bd3786"
             ],
             [
              0.5555555555555556,
              "#d8576b"
             ],
             [
              0.6666666666666666,
              "#ed7953"
             ],
             [
              0.7777777777777778,
              "#fb9f3a"
             ],
             [
              0.8888888888888888,
              "#fdca26"
             ],
             [
              1,
              "#f0f921"
             ]
            ],
            "type": "heatmapgl"
           }
          ],
          "histogram": [
           {
            "marker": {
             "pattern": {
              "fillmode": "overlay",
              "size": 10,
              "solidity": 0.2
             }
            },
            "type": "histogram"
           }
          ],
          "histogram2d": [
           {
            "colorbar": {
             "outlinewidth": 0,
             "ticks": ""
            },
            "colorscale": [
             [
              0,
              "#0d0887"
             ],
             [
              0.1111111111111111,
              "#46039f"
             ],
             [
              0.2222222222222222,
              "#7201a8"
             ],
             [
              0.3333333333333333,
              "#9c179e"
             ],
             [
              0.4444444444444444,
              "#bd3786"
             ],
             [
              0.5555555555555556,
              "#d8576b"
             ],
             [
              0.6666666666666666,
              "#ed7953"
             ],
             [
              0.7777777777777778,
              "#fb9f3a"
             ],
             [
              0.8888888888888888,
              "#fdca26"
             ],
             [
              1,
              "#f0f921"
             ]
            ],
            "type": "histogram2d"
           }
          ],
          "histogram2dcontour": [
           {
            "colorbar": {
             "outlinewidth": 0,
             "ticks": ""
            },
            "colorscale": [
             [
              0,
              "#0d0887"
             ],
             [
              0.1111111111111111,
              "#46039f"
             ],
             [
              0.2222222222222222,
              "#7201a8"
             ],
             [
              0.3333333333333333,
              "#9c179e"
             ],
             [
              0.4444444444444444,
              "#bd3786"
             ],
             [
              0.5555555555555556,
              "#d8576b"
             ],
             [
              0.6666666666666666,
              "#ed7953"
             ],
             [
              0.7777777777777778,
              "#fb9f3a"
             ],
             [
              0.8888888888888888,
              "#fdca26"
             ],
             [
              1,
              "#f0f921"
             ]
            ],
            "type": "histogram2dcontour"
           }
          ],
          "mesh3d": [
           {
            "colorbar": {
             "outlinewidth": 0,
             "ticks": ""
            },
            "type": "mesh3d"
           }
          ],
          "parcoords": [
           {
            "line": {
             "colorbar": {
              "outlinewidth": 0,
              "ticks": ""
             }
            },
            "type": "parcoords"
           }
          ],
          "pie": [
           {
            "automargin": true,
            "type": "pie"
           }
          ],
          "scatter": [
           {
            "fillpattern": {
             "fillmode": "overlay",
             "size": 10,
             "solidity": 0.2
            },
            "type": "scatter"
           }
          ],
          "scatter3d": [
           {
            "line": {
             "colorbar": {
              "outlinewidth": 0,
              "ticks": ""
             }
            },
            "marker": {
             "colorbar": {
              "outlinewidth": 0,
              "ticks": ""
             }
            },
            "type": "scatter3d"
           }
          ],
          "scattercarpet": [
           {
            "marker": {
             "colorbar": {
              "outlinewidth": 0,
              "ticks": ""
             }
            },
            "type": "scattercarpet"
           }
          ],
          "scattergeo": [
           {
            "marker": {
             "colorbar": {
              "outlinewidth": 0,
              "ticks": ""
             }
            },
            "type": "scattergeo"
           }
          ],
          "scattergl": [
           {
            "marker": {
             "colorbar": {
              "outlinewidth": 0,
              "ticks": ""
             }
            },
            "type": "scattergl"
           }
          ],
          "scattermapbox": [
           {
            "marker": {
             "colorbar": {
              "outlinewidth": 0,
              "ticks": ""
             }
            },
            "type": "scattermapbox"
           }
          ],
          "scatterpolar": [
           {
            "marker": {
             "colorbar": {
              "outlinewidth": 0,
              "ticks": ""
             }
            },
            "type": "scatterpolar"
           }
          ],
          "scatterpolargl": [
           {
            "marker": {
             "colorbar": {
              "outlinewidth": 0,
              "ticks": ""
             }
            },
            "type": "scatterpolargl"
           }
          ],
          "scatterternary": [
           {
            "marker": {
             "colorbar": {
              "outlinewidth": 0,
              "ticks": ""
             }
            },
            "type": "scatterternary"
           }
          ],
          "surface": [
           {
            "colorbar": {
             "outlinewidth": 0,
             "ticks": ""
            },
            "colorscale": [
             [
              0,
              "#0d0887"
             ],
             [
              0.1111111111111111,
              "#46039f"
             ],
             [
              0.2222222222222222,
              "#7201a8"
             ],
             [
              0.3333333333333333,
              "#9c179e"
             ],
             [
              0.4444444444444444,
              "#bd3786"
             ],
             [
              0.5555555555555556,
              "#d8576b"
             ],
             [
              0.6666666666666666,
              "#ed7953"
             ],
             [
              0.7777777777777778,
              "#fb9f3a"
             ],
             [
              0.8888888888888888,
              "#fdca26"
             ],
             [
              1,
              "#f0f921"
             ]
            ],
            "type": "surface"
           }
          ],
          "table": [
           {
            "cells": {
             "fill": {
              "color": "#EBF0F8"
             },
             "line": {
              "color": "white"
             }
            },
            "header": {
             "fill": {
              "color": "#C8D4E3"
             },
             "line": {
              "color": "white"
             }
            },
            "type": "table"
           }
          ]
         },
         "layout": {
          "annotationdefaults": {
           "arrowcolor": "#2a3f5f",
           "arrowhead": 0,
           "arrowwidth": 1
          },
          "autotypenumbers": "strict",
          "coloraxis": {
           "colorbar": {
            "outlinewidth": 0,
            "ticks": ""
           }
          },
          "colorscale": {
           "diverging": [
            [
             0,
             "#8e0152"
            ],
            [
             0.1,
             "#c51b7d"
            ],
            [
             0.2,
             "#de77ae"
            ],
            [
             0.3,
             "#f1b6da"
            ],
            [
             0.4,
             "#fde0ef"
            ],
            [
             0.5,
             "#f7f7f7"
            ],
            [
             0.6,
             "#e6f5d0"
            ],
            [
             0.7,
             "#b8e186"
            ],
            [
             0.8,
             "#7fbc41"
            ],
            [
             0.9,
             "#4d9221"
            ],
            [
             1,
             "#276419"
            ]
           ],
           "sequential": [
            [
             0,
             "#0d0887"
            ],
            [
             0.1111111111111111,
             "#46039f"
            ],
            [
             0.2222222222222222,
             "#7201a8"
            ],
            [
             0.3333333333333333,
             "#9c179e"
            ],
            [
             0.4444444444444444,
             "#bd3786"
            ],
            [
             0.5555555555555556,
             "#d8576b"
            ],
            [
             0.6666666666666666,
             "#ed7953"
            ],
            [
             0.7777777777777778,
             "#fb9f3a"
            ],
            [
             0.8888888888888888,
             "#fdca26"
            ],
            [
             1,
             "#f0f921"
            ]
           ],
           "sequentialminus": [
            [
             0,
             "#0d0887"
            ],
            [
             0.1111111111111111,
             "#46039f"
            ],
            [
             0.2222222222222222,
             "#7201a8"
            ],
            [
             0.3333333333333333,
             "#9c179e"
            ],
            [
             0.4444444444444444,
             "#bd3786"
            ],
            [
             0.5555555555555556,
             "#d8576b"
            ],
            [
             0.6666666666666666,
             "#ed7953"
            ],
            [
             0.7777777777777778,
             "#fb9f3a"
            ],
            [
             0.8888888888888888,
             "#fdca26"
            ],
            [
             1,
             "#f0f921"
            ]
           ]
          },
          "colorway": [
           "#636efa",
           "#EF553B",
           "#00cc96",
           "#ab63fa",
           "#FFA15A",
           "#19d3f3",
           "#FF6692",
           "#B6E880",
           "#FF97FF",
           "#FECB52"
          ],
          "font": {
           "color": "#2a3f5f"
          },
          "geo": {
           "bgcolor": "white",
           "lakecolor": "white",
           "landcolor": "#E5ECF6",
           "showlakes": true,
           "showland": true,
           "subunitcolor": "white"
          },
          "hoverlabel": {
           "align": "left"
          },
          "hovermode": "closest",
          "mapbox": {
           "style": "light"
          },
          "paper_bgcolor": "white",
          "plot_bgcolor": "#E5ECF6",
          "polar": {
           "angularaxis": {
            "gridcolor": "white",
            "linecolor": "white",
            "ticks": ""
           },
           "bgcolor": "#E5ECF6",
           "radialaxis": {
            "gridcolor": "white",
            "linecolor": "white",
            "ticks": ""
           }
          },
          "scene": {
           "xaxis": {
            "backgroundcolor": "#E5ECF6",
            "gridcolor": "white",
            "gridwidth": 2,
            "linecolor": "white",
            "showbackground": true,
            "ticks": "",
            "zerolinecolor": "white"
           },
           "yaxis": {
            "backgroundcolor": "#E5ECF6",
            "gridcolor": "white",
            "gridwidth": 2,
            "linecolor": "white",
            "showbackground": true,
            "ticks": "",
            "zerolinecolor": "white"
           },
           "zaxis": {
            "backgroundcolor": "#E5ECF6",
            "gridcolor": "white",
            "gridwidth": 2,
            "linecolor": "white",
            "showbackground": true,
            "ticks": "",
            "zerolinecolor": "white"
           }
          },
          "shapedefaults": {
           "line": {
            "color": "#2a3f5f"
           }
          },
          "ternary": {
           "aaxis": {
            "gridcolor": "white",
            "linecolor": "white",
            "ticks": ""
           },
           "baxis": {
            "gridcolor": "white",
            "linecolor": "white",
            "ticks": ""
           },
           "bgcolor": "#E5ECF6",
           "caxis": {
            "gridcolor": "white",
            "linecolor": "white",
            "ticks": ""
           }
          },
          "title": {
           "x": 0.05
          },
          "xaxis": {
           "automargin": true,
           "gridcolor": "white",
           "linecolor": "white",
           "ticks": "",
           "title": {
            "standoff": 15
           },
           "zerolinecolor": "white",
           "zerolinewidth": 2
          },
          "yaxis": {
           "automargin": true,
           "gridcolor": "white",
           "linecolor": "white",
           "ticks": "",
           "title": {
            "standoff": 15
           },
           "zerolinecolor": "white",
           "zerolinewidth": 2
          }
         }
        },
        "title": {
         "text": "Number of Internal Appeals Overturned and Upheld Per State (2023)"
        },
        "xaxis": {
         "anchor": "y",
         "autorange": true,
         "domain": [
          0,
          1
         ],
         "range": [
          -0.5,
          31.5
         ],
         "title": {
          "text": "State"
         },
         "type": "category"
        },
        "yaxis": {
         "anchor": "x",
         "autorange": true,
         "domain": [
          0,
          1
         ],
         "range": [
          1.065622817464936,
          5.328238487222791
         ],
         "title": {
          "text": "Number of Appeals (Scaled Logarithmically)"
         },
         "type": "log"
        }
       }
      },
      "image/png": "[encoded data removed]",
      "text/html": [
       "<div>                            <div id=\"cb6942f5-a422-41df-996f-1215c4e7b11b\" class=\"plotly-graph-div\" style=\"height:525px; width:100%;\"></div>            <script type=\"text/javascript\">                require([\"plotly\"], function(Plotly) {                    window.PLOTLYENV=window.PLOTLYENV || {};                                    if (document.getElementById(\"cb6942f5-a422-41df-996f-1215c4e7b11b\")) {                    Plotly.newPlot(                        \"cb6942f5-a422-41df-996f-1215c4e7b11b\",                        [{\"alignmentgroup\":\"True\",\"hovertemplate\":\"Appeal Outcome=Overturned Appeals<br>State=%{x}<br>Number of Appeals (Scaled Logarithmically)=%{y}<extra></extra>\",\"legendgroup\":\"Overturned Appeals\",\"marker\":{\"color\":\"#636efa\",\"pattern\":{\"shape\":\"\"}},\"name\":\"Overturned Appeals\",\"offsetgroup\":\"Overturned Appeals\",\"orientation\":\"v\",\"showlegend\":true,\"textposition\":\"auto\",\"x\":[\"AK\",\"AL\",\"AR\",\"AZ\",\"CA\",\"DE\",\"FL\",\"HI\",\"IA\",\"IL\",\"IN\",\"KS\",\"LA\",\"MI\",\"MO\",\"MS\",\"MT\",\"NC\",\"ND\",\"NE\",\"NH\",\"OH\",\"OK\",\"OR\",\"SC\",\"SD\",\"TN\",\"TX\",\"UT\",\"WI\",\"WV\",\"WY\"],\"xaxis\":\"x\",\"y\":[125,1053,3518,4044,6309,58,104206,38,1170,1494,406,1259,721,628,872,538,607,2171,148,1330,416,3402,1431,1495,1762,311,2640,26148,1698,695,19,566],\"yaxis\":\"y\",\"type\":\"bar\"},{\"alignmentgroup\":\"True\",\"hovertemplate\":\"Appeal Outcome=Upheld Appeals<br>State=%{x}<br>Number of Appeals (Scaled Logarithmically)=%{y}<extra></extra>\",\"legendgroup\":\"Upheld Appeals\",\"marker\":{\"color\":\"#EF553B\",\"pattern\":{\"shape\":\"\"}},\"name\":\"Upheld Appeals\",\"offsetgroup\":\"Upheld Appeals\",\"orientation\":\"v\",\"showlegend\":true,\"textposition\":\"auto\",\"x\":[\"AK\",\"AL\",\"AR\",\"AZ\",\"CA\",\"DE\",\"FL\",\"HI\",\"IA\",\"IL\",\"IN\",\"KS\",\"LA\",\"MI\",\"MO\",\"MS\",\"MT\",\"NC\",\"ND\",\"NE\",\"NH\",\"OH\",\"OK\",\"OR\",\"SC\",\"SD\",\"TN\",\"TX\",\"UT\",\"WI\",\"WV\",\"WY\"],\"xaxis\":\"x\",\"y\":[127,1492,7505,4372,10181,138,130349,44,1521,2826,574,1465,1591,817,1206,663,2021,3322,157,1728,295,3977,2841,3889,2346,212,3260,26946,3714,872,58,1065],\"yaxis\":\"y\",\"type\":\"bar\"}],                        {\"template\":{\"data\":{\"histogram2dcontour\":[{\"type\":\"histogram2dcontour\",\"colorbar\":{\"outlinewidth\":0,\"ticks\":\"\"},\"colorscale\":[[0.0,\"#0d0887\"],[0.1111111111111111,\"#46039f\"],[0.2222222222222222,\"#7201a8\"],[0.3333333333333333,\"#9c179e\"],[0.4444444444444444,\"#bd3786\"],[0.5555555555555556,\"#d8576b\"],[0.6666666666666666,\"#ed7953\"],[0.7777777777777778,\"#fb9f3a\"],[0.8888888888888888,\"#fdca26\"],[1.0,\"#f0f921\"]]}],\"choropleth\":[{\"type\":\"choropleth\",\"colorbar\":{\"outlinewidth\":0,\"ticks\":\"\"}}],\"histogram2d\":[{\"type\":\"histogram2d\",\"colorbar\":{\"outlinewidth\":0,\"ticks\":\"\"},\"colorscale\":[[0.0,\"#0d0887\"],[0.1111111111111111,\"#46039f\"],[0.2222222222222222,\"#7201a8\"],[0.3333333333333333,\"#9c179e\"],[0.4444444444444444,\"#bd3786\"],[0.5555555555555556,\"#d8576b\"],[0.6666666666666666,\"#ed7953\"],[0.7777777777777778,\"#fb9f3a\"],[0.8888888888888888,\"#fdca26\"],[1.0,\"#f0f921\"]]}],\"heatmap\":[{\"type\":\"heatmap\",\"colorbar\":{\"outlinewidth\":0,\"ticks\":\"\"},\"colorscale\":[[0.0,\"#0d0887\"],[0.1111111111111111,\"#46039f\"],[0.2222222222222222,\"#7201a8\"],[0.3333333333333333,\"#9c179e\"],[0.4444444444444444,\"#bd3786\"],[0.5555555555555556,\"#d8576b\"],[0.6666666666666666,\"#ed7953\"],[0.7777777777777778,\"#fb9f3a\"],[0.8888888888888888,\"#fdca26\"],[1.0,\"#f0f921\"]]}],\"heatmapgl\":[{\"type\":\"heatmapgl\",\"colorbar\":{\"outlinewidth\":0,\"ticks\":\"\"},\"colorscale\":[[0.0,\"#0d0887\"],[0.1111111111111111,\"#46039f\"],[0.2222222222222222,\"#7201a8\"],[0.3333333333333333,\"#9c179e\"],[0.4444444444444444,\"#bd3786\"],[0.5555555555555556,\"#d8576b\"],[0.6666666666666666,\"#ed7953\"],[0.7777777777777778,\"#fb9f3a\"],[0.8888888888888888,\"#fdca26\"],[1.0,\"#f0f921\"]]}],\"contourcarpet\":[{\"type\":\"contourcarpet\",\"colorbar\":{\"outlinewidth\":0,\"ticks\":\"\"}}],\"contour\":[{\"type\":\"contour\",\"colorbar\":{\"outlinewidth\":0,\"ticks\":\"\"},\"colorscale\":[[0.0,\"#0d0887\"],[0.1111111111111111,\"#46039f\"],[0.2222222222222222,\"#7201a8\"],[0.3333333333333333,\"#9c179e\"],[0.4444444444444444,\"#bd3786\"],[0.5555555555555556,\"#d8576b\"],[0.6666666666666666,\"#ed7953\"],[0.7777777777777778,\"#fb9f3a\"],[0.8888888888888888,\"#fdca26\"],[1.0,\"#f0f921\"]]}],\"surface\":[{\"type\":\"surface\",\"colorbar\":{\"outlinewidth\":0,\"ticks\":\"\"},\"colorscale\":[[0.0,\"#0d0887\"],[0.1111111111111111,\"#46039f\"],[0.2222222222222222,\"#7201a8\"],[0.3333333333333333,\"#9c179e\"],[0.4444444444444444,\"#bd3786\"],[0.5555555555555556,\"#d8576b\"],[0.6666666666666666,\"#ed7953\"],[0.7777777777777778,\"#fb9f3a\"],[0.8888888888888888,\"#fdca26\"],[1.0,\"#f0f921\"]]}],\"mesh3d\":[{\"type\":\"mesh3d\",\"colorbar\":{\"outlinewidth\":0,\"ticks\":\"\"}}],\"scatter\":[{\"fillpattern\":{\"fillmode\":\"overlay\",\"size\":10,\"solidity\":0.2},\"type\":\"scatter\"}],\"parcoords\":[{\"type\":\"parcoords\",\"line\":{\"colorbar\":{\"outlinewidth\":0,\"ticks\":\"\"}}}],\"scatterpolargl\":[{\"type\":\"scatterpolargl\",\"marker\":{\"colorbar\":{\"outlinewidth\":0,\"ticks\":\"\"}}}],\"bar\":[{\"error_x\":{\"color\":\"#2a3f5f\"},\"error_y\":{\"color\":\"#2a3f5f\"},\"marker\":{\"line\":{\"color\":\"#E5ECF6\",\"width\":0.5},\"pattern\":{\"fillmode\":\"overlay\",\"size\":10,\"solidity\":0.2}},\"type\":\"bar\"}],\"scattergeo\":[{\"type\":\"scattergeo\",\"marker\":{\"colorbar\":{\"outlinewidth\":0,\"ticks\":\"\"}}}],\"scatterpolar\":[{\"type\":\"scatterpolar\",\"marker\":{\"colorbar\":{\"outlinewidth\":0,\"ticks\":\"\"}}}],\"histogram\":[{\"marker\":{\"pattern\":{\"fillmode\":\"overlay\",\"size\":10,\"solidity\":0.2}},\"type\":\"histogram\"}],\"scattergl\":[{\"type\":\"scattergl\",\"marker\":{\"colorbar\":{\"outlinewidth\":0,\"ticks\":\"\"}}}],\"scatter3d\":[{\"type\":\"scatter3d\",\"line\":{\"colorbar\":{\"outlinewidth\":0,\"ticks\":\"\"}},\"marker\":{\"colorbar\":{\"outlinewidth\":0,\"ticks\":\"\"}}}],\"scattermapbox\":[{\"type\":\"scattermapbox\",\"marker\":{\"colorbar\":{\"outlinewidth\":0,\"ticks\":\"\"}}}],\"scatterternary\":[{\"type\":\"scatterternary\",\"marker\":{\"colorbar\":{\"outlinewidth\":0,\"ticks\":\"\"}}}],\"scattercarpet\":[{\"type\":\"scattercarpet\",\"marker\":{\"colorbar\":{\"outlinewidth\":0,\"ticks\":\"\"}}}],\"carpet\":[{\"aaxis\":{\"endlinecolor\":\"#2a3f5f\",\"gridcolor\":\"white\",\"linecolor\":\"white\",\"minorgridcolor\":\"white\",\"startlinecolor\":\"#2a3f5f\"},\"baxis\":{\"endlinecolor\":\"#2a3f5f\",\"gridcolor\":\"white\",\"linecolor\":\"white\",\"minorgridcolor\":\"white\",\"startlinecolor\":\"#2a3f5f\"},\"type\":\"carpet\"}],\"table\":[{\"cells\":{\"fill\":{\"color\":\"#EBF0F8\"},\"line\":{\"color\":\"white\"}},\"header\":{\"fill\":{\"color\":\"#C8D4E3\"},\"line\":{\"color\":\"white\"}},\"type\":\"table\"}],\"barpolar\":[{\"marker\":{\"line\":{\"color\":\"#E5ECF6\",\"width\":0.5},\"pattern\":{\"fillmode\":\"overlay\",\"size\":10,\"solidity\":0.2}},\"type\":\"barpolar\"}],\"pie\":[{\"automargin\":true,\"type\":\"pie\"}]},\"layout\":{\"autotypenumbers\":\"strict\",\"colorway\":[\"#636efa\",\"#EF553B\",\"#00cc96\",\"#ab63fa\",\"#FFA15A\",\"#19d3f3\",\"#FF6692\",\"#B6E880\",\"#FF97FF\",\"#FECB52\"],\"font\":{\"color\":\"#2a3f5f\"},\"hovermode\":\"closest\",\"hoverlabel\":{\"align\":\"left\"},\"paper_bgcolor\":\"white\",\"plot_bgcolor\":\"#E5ECF6\",\"polar\":{\"bgcolor\":\"#E5ECF6\",\"angularaxis\":{\"gridcolor\":\"white\",\"linecolor\":\"white\",\"ticks\":\"\"},\"radialaxis\":{\"gridcolor\":\"white\",\"linecolor\":\"white\",\"ticks\":\"\"}},\"ternary\":{\"bgcolor\":\"#E5ECF6\",\"aaxis\":{\"gridcolor\":\"white\",\"linecolor\":\"white\",\"ticks\":\"\"},\"baxis\":{\"gridcolor\":\"white\",\"linecolor\":\"white\",\"ticks\":\"\"},\"caxis\":{\"gridcolor\":\"white\",\"linecolor\":\"white\",\"ticks\":\"\"}},\"coloraxis\":{\"colorbar\":{\"outlinewidth\":0,\"ticks\":\"\"}},\"colorscale\":{\"sequential\":[[0.0,\"#0d0887\"],[0.1111111111111111,\"#46039f\"],[0.2222222222222222,\"#7201a8\"],[0.3333333333333333,\"#9c179e\"],[0.4444444444444444,\"#bd3786\"],[0.5555555555555556,\"#d8576b\"],[0.6666666666666666,\"#ed7953\"],[0.7777777777777778,\"#fb9f3a\"],[0.8888888888888888,\"#fdca26\"],[1.0,\"#f0f921\"]],\"sequentialminus\":[[0.0,\"#0d0887\"],[0.1111111111111111,\"#46039f\"],[0.2222222222222222,\"#7201a8\"],[0.3333333333333333,\"#9c179e\"],[0.4444444444444444,\"#bd3786\"],[0.5555555555555556,\"#d8576b\"],[0.6666666666666666,\"#ed7953\"],[0.7777777777777778,\"#fb9f3a\"],[0.8888888888888888,\"#fdca26\"],[1.0,\"#f0f921\"]],\"diverging\":[[0,\"#8e0152\"],[0.1,\"#c51b7d\"],[0.2,\"#de77ae\"],[0.3,\"#f1b6da\"],[0.4,\"#fde0ef\"],[0.5,\"#f7f7f7\"],[0.6,\"#e6f5d0\"],[0.7,\"#b8e186\"],[0.8,\"#7fbc41\"],[0.9,\"#4d9221\"],[1,\"#276419\"]]},\"xaxis\":{\"gridcolor\":\"white\",\"linecolor\":\"white\",\"ticks\":\"\",\"title\":{\"standoff\":15},\"zerolinecolor\":\"white\",\"automargin\":true,\"zerolinewidth\":2},\"yaxis\":{\"gridcolor\":\"white\",\"linecolor\":\"white\",\"ticks\":\"\",\"title\":{\"standoff\":15},\"zerolinecolor\":\"white\",\"automargin\":true,\"zerolinewidth\":2},\"scene\":{\"xaxis\":{\"backgroundcolor\":\"#E5ECF6\",\"gridcolor\":\"white\",\"linecolor\":\"white\",\"showbackground\":true,\"ticks\":\"\",\"zerolinecolor\":\"white\",\"gridwidth\":2},\"yaxis\":{\"backgroundcolor\":\"#E5ECF6\",\"gridcolor\":\"white\",\"linecolor\":\"white\",\"showbackground\":true,\"ticks\":\"\",\"zerolinecolor\":\"white\",\"gridwidth\":2},\"zaxis\":{\"backgroundcolor\":\"#E5ECF6\",\"gridcolor\":\"white\",\"linecolor\":\"white\",\"showbackground\":true,\"ticks\":\"\",\"zerolinecolor\":\"white\",\"gridwidth\":2}},\"shapedefaults\":{\"line\":{\"color\":\"#2a3f5f\"}},\"annotationdefaults\":{\"arrowcolor\":\"#2a3f5f\",\"arrowhead\":0,\"arrowwidth\":1},\"geo\":{\"bgcolor\":\"white\",\"landcolor\":\"#E5ECF6\",\"subunitcolor\":\"white\",\"showland\":true,\"showlakes\":true,\"lakecolor\":\"white\"},\"title\":{\"x\":0.05},\"mapbox\":{\"style\":\"light\"}}},\"xaxis\":{\"anchor\":\"y\",\"domain\":[0.0,1.0],\"title\":{\"text\":\"State\"}},\"yaxis\":{\"anchor\":\"x\",\"domain\":[0.0,1.0],\"title\":{\"text\":\"Number of Appeals (Scaled Logarithmically)\"},\"type\":\"log\"},\"legend\":{\"title\":{\"text\":\"Appeal Outcome\"},\"tracegroupgap\":0},\"title\":{\"text\":\"Number of Internal Appeals Overturned and Upheld Per State (2023)\"},\"barmode\":\"group\",\"annotations\":[{\"showarrow\":false,\"text\":\"Centers for Medicare & Medicaid Services,  \\\"Transparency in Coverage PUF (TC-PUF)\\\", 2023, <br>     https://www.cms.gov/marketplace/resources/data/public-use-files\",\"x\":1.19,\"xanchor\":\"right\",\"xref\":\"paper\",\"y\":-0.3,\"yanchor\":\"bottom\",\"yref\":\"paper\"}]},                        {\"responsive\": true}                    ).then(function(){\n",
       "                            \n",
       "var gd = document.getElementById('cb6942f5-a422-41df-996f-1215c4e7b11b');\n",
       "var x = new MutationObserver(function (mutations, observer) {{\n",
       "        var display = window.getComputedStyle(gd).display;\n",
       "        if (!display || display === 'none') {{\n",
       "            console.log([gd, 'removed!']);\n",
       "            Plotly.purge(gd);\n",
       "            observer.disconnect();\n",
       "        }}\n",
       "}});\n",
       "\n",
       "// Listen for the removal of the full notebook cells\n",
       "var notebookContainer = gd.closest('#notebook-container');\n",
       "if (notebookContainer) {{\n",
       "    x.observe(notebookContainer, {childList: true});\n",
       "}}\n",
       "\n",
       "// Listen for the clearing of the current output cell\n",
       "var outputEl = gd.closest('.output');\n",
       "if (outputEl) {{\n",
       "    x.observe(outputEl, {childList: true});\n",
       "}}\n",
       "\n",
       "                        })                };                });            </script>        </div>"
      ]
     },
     "metadata": {},
     "output_type": "display_data"
    }
   ],
   "source": [
    "df2_melted = pd.melt(df2, id_vars=['State'],\n",
    "                     value_vars=['Overturned Appeals', 'Upheld Appeals'],\n",
    "                     var_name='Appeal Outcome', value_name='Count')\n",
    "fig2 = px.bar(\n",
    "    df2_melted,\n",
    "    x=\"State\",\n",
    "    y=\"Count\",\n",
    "    log_y=True,\n",
    "    labels={'Count': 'Number of Appeals (Scaled Logarithmically)'},\n",
    "    color=\"Appeal Outcome\",\n",
    "    color_continuous_scale='Viridis',\n",
    "    barmode=\"group\",\n",
    "    title=\"Number of Internal Appeals Overturned and Upheld Per State (2023)\"\n",
    "    )\n",
    "fig2.add_annotation(\n",
    "    text=\"Centers for Medicare & Medicaid Services,  \\\"Transparency in Coverage PUF (TC-PUF)\\\", 2023, <br> \\\n",
    "    https://www.cms.gov/marketplace/resources/data/public-use-files\",\n",
    "    xref=\"paper\", yref=\"paper\",\n",
    "    x=1.19, y=-0.3,\n",
    "    showarrow=False,\n",
    "    xanchor=\"right\", yanchor=\"bottom\" )\n",
    "fig2.show()"
   ]
  },
  {
   "cell_type": "code",
   "execution_count": 31,
   "metadata": {
    "id": "BN1gfFHccWDB"
   },
   "outputs": [],
   "source": [
    "def wrap_labels(labels, width=20):\n",
    "    return ['<br>'.join(textwrap.wrap(label, width=width)) for label in labels]\n",
    "def treemap_plot(state):\n",
    "    state_data = df3[df3['State'] == state].iloc[:, 1:]\n",
    "    state_data.columns = wrap_labels(state_data.columns)\n",
    "    other = state_data.pop('Other')\n",
    "    other_percent = int((other / (state_data.sum().sum() + other)*100).iloc[0])\n",
    "    flat_data = state_data.values.flatten().tolist()\n",
    "    flat_data = [1 if x == 0 else x for x in flat_data]\n",
    "    fig = px.treemap(state_data,\n",
    "                    path=[state_data.columns],\n",
    "                    values=flat_data,\n",
    "                    color=flat_data,\n",
    "                    color_continuous_scale='PuBu',\n",
    "                    title=f'Reasons for Claim Denials in {state}')\n",
    "    fig.data[0].textinfo = 'label+percent parent'\n",
    "    fig.add_annotation(\n",
    "      text=f'\\\"Other\\\" accounts for {other_percent}% of denial reasons',\n",
    "      x=0, y=1.15,\n",
    "      showarrow=False)\n",
    "    fig.update_layout(uniformtext=dict(minsize=15, mode='hide'),)\n",
    "    fig.update(layout_coloraxis_showscale=False)\n",
    "    if state == 'CA':\n",
    "        fig.add_annotation(\n",
    "        text=\"Covered California, \\\"Data on Denied Claims\\\", 2023, <br>\\\n",
    "        https://hbex.coveredca.com/insurance-companies/denied-claims/\",\n",
    "        xref=\"paper\", yref=\"paper\",\n",
    "        x=0.75, y=-0.2,\n",
    "        showarrow=False,\n",
    "        xanchor=\"right\", yanchor=\"bottom\" )\n",
    "    else:\n",
    "        fig.add_annotation(\n",
    "        text=\"Centers for Medicare & Medicaid Services, \\\"Transparency in Coverage PUF (TC-PUF)\\\", 2023, <br>\\\n",
    "        https://www.cms.gov/marketplace/resources/data/public-use-files\",\n",
    "        xref=\"paper\", yref=\"paper\",\n",
    "        x=0.75, y=-0.2,\n",
    "        showarrow=False,\n",
    "        xanchor=\"right\", yanchor=\"bottom\" )\n",
    "    fig.update_traces(hovertemplate='labels=%{label}<br>value=%{value}<extra></extra>')\n",
    "    return fig"
   ]
  },
  {
   "cell_type": "code",
   "execution_count": 30,
   "metadata": {
    "colab": {
     "base_uri": "https://localhost:8080/",
     "height": 671
    },
    "id": "Teg-blviVx03",
    "outputId": "e4dfc7fd-83ca-4ed2-8656-682b71f4e699",
    "tags": []
   },
   "outputs": [
    {
     "data": {
      "text/html": [
       "\n",
       "        <iframe\n",
       "            width=\"100%\"\n",
       "            height=\"650\"\n",
       "            src=\"http://127.0.0.1:8050/\"\n",
       "            frameborder=\"0\"\n",
       "            allowfullscreen\n",
       "            \n",
       "        ></iframe>\n",
       "        "
      ],
      "text/plain": [
       "<IPython.lib.display.IFrame at 0x273d3753760>"
      ]
     },
     "metadata": {},
     "output_type": "display_data"
    },
    {
     "name": "stdout",
     "output_type": "stream",
     "text": [
      "CA\n",
      "AZ\n"
     ]
    }
   ],
   "source": [
    "app = dash.Dash(__name__, external_stylesheets=[dbc.themes.BOOTSTRAP])\n",
    "app.layout = dbc.Container([\n",
    "    dbc.Card([\n",
    "            dbc.Button('🡠',\n",
    "                       id='back-button',\n",
    "                       outline=True,\n",
    "                       size=\"sm\",\n",
    "                       className='mt-2 ml-2 col-1',\n",
    "                       style={'display': 'none'}\n",
    "                       ),\n",
    "            dbc.Row(\n",
    "                dcc.Graph(\n",
    "                        id='graph',\n",
    "                        figure=choropleth_plot()\n",
    "                        ),\n",
    "                justify='center'\n",
    "            )\n",
    "            ], className='mt-3')\n",
    "])\n",
    "\n",
    "@app.callback(\n",
    "    Output('graph', 'figure'),\n",
    "    Output('back-button', 'style'), \n",
    "    Input('graph', 'clickData'),    \n",
    "    Input('back-button', 'n_clicks')\n",
    "    )\n",
    "def drilldown(click_data,n_clicks):\n",
    "    ctx = dash.callback_context\n",
    "    trigger_id = ctx.triggered[0][\"prop_id\"].split(\".\")[0]\n",
    "    if trigger_id == 'graph':\n",
    "        if click_data:\n",
    "            state = click_data['points'][0]['location']\n",
    "            if state in df3['State'].unique():\n",
    "                fig = treemap_plot(state)\n",
    "                return fig, {'display':'block'}     \n",
    "            else:\n",
    "                return choropleth_plot(), {'display': 'none'}    \n",
    "    else:\n",
    "        return choropleth_plot(), {'display':'none'}\n",
    "\n",
    "if __name__ == '__main__':\n",
    "    app.run_server(debug=False)"
   ]
  },
  {
   "cell_type": "code",
   "execution_count": null,
   "metadata": {},
   "outputs": [],
   "source": []
  }
 ],
 "metadata": {
  "colab": {
   "provenance": []
  },
  "kernelspec": {
   "display_name": "Python 3 (ipykernel)",
   "language": "python",
   "name": "python3"
  },
  "language_info": {
   "codemirror_mode": {
    "name": "ipython",
    "version": 3
   },
   "file_extension": ".py",
   "mimetype": "text/x-python",
   "name": "python",
   "nbconvert_exporter": "python",
   "pygments_lexer": "ipython3",
   "version": "3.10.9"
  },
  "toc-autonumbering": false,
  "toc-showcode": false,
  "toc-showmarkdowntxt": false
 },
 "nbformat": 4,
 "nbformat_minor": 4
}
