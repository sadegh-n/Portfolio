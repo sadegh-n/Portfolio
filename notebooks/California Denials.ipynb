{
 "cells": [
  {
   "cell_type": "code",
   "execution_count": 33,
   "id": "7cbc0d5d-d2e7-4d9b-b619-42d420ef5e03",
   "metadata": {},
   "outputs": [],
   "source": [
    "import numpy as np\n",
    "import pandas as pd"
   ]
  },
  {
   "cell_type": "code",
   "execution_count": 114,
   "id": "9764e370-8478-4e9b-b1a7-ed4bbcd67c6b",
   "metadata": {},
   "outputs": [],
   "source": [
    "il_df = pd.read_excel('California Denied Claims.xlsx', 'Sheet1')\n",
    "pl_df = pd.read_excel('California Denied Claims.xlsx', 'Sheet2')"
   ]
  },
  {
   "cell_type": "code",
   "execution_count": 136,
   "id": "cc812141-a7fc-46fb-9a0f-7396ba65cd0b",
   "metadata": {},
   "outputs": [],
   "source": [
    "pl_df2 = pl_df.transpose(copy=True)\n",
    "il_df2 = il_df.transpose(copy=True)\n",
    "il_df2.columns = il_df2.iloc[0]\n",
    "il_df2 = il_df2.iloc[1:]\n",
    "pl_df2.columns = pl_df2.iloc[0]\n",
    "pl_df2 = pl_df2.iloc[1:]\n",
    "\n",
    "il_df2.drop(['Issuer HIOS ID*', 'In-Network Claims That Were Denied ', 'In-Network Claims That Were Received ',\n",
    "            'In-Network Claims That Were Resubmitted ', 'Out-of-Network Claims That Were Denied ',\n",
    "            'Out-of-Network Claims That Were Received ', 'Out-of-Network Claims That Were Resubmitted '], axis=1, inplace=True)\n",
    "\n",
    "pl_df2.drop([' In Network Claims That Were Received in 2023', ' In Network Claims with That Were Denied in 2023',\n",
    "            ' In Network Claims That Were Resubmitted in 2023', ' Out-of-Network Claims That Were Received in 2023',\n",
    "            ' Out-of-Network Claims That Were Denied in 2023', ' Out-of-Network Claims That Were Resubmitted in 2023'], axis=1, inplace=True)"
   ]
  },
  {
   "cell_type": "code",
   "execution_count": 127,
   "id": "6428a09f-7d71-4f8a-a5e1-e68bf3621c6c",
   "metadata": {},
   "outputs": [
    {
     "data": {
      "text/html": [
       "<div>\n",
       "<style scoped>\n",
       "    .dataframe tbody tr th:only-of-type {\n",
       "        vertical-align: middle;\n",
       "    }\n",
       "\n",
       "    .dataframe tbody tr th {\n",
       "        vertical-align: top;\n",
       "    }\n",
       "\n",
       "    .dataframe thead th {\n",
       "        text-align: right;\n",
       "    }\n",
       "</style>\n",
       "<table border=\"1\" class=\"dataframe\">\n",
       "  <thead>\n",
       "    <tr style=\"text-align: right;\">\n",
       "      <th>Values</th>\n",
       "      <th>Claims That Were Received in 2023</th>\n",
       "      <th>Claims That Were Denied in 2023</th>\n",
       "      <th>Claims That Were Resubmitted in 2023</th>\n",
       "      <th>Prior Authorization or Referral Required</th>\n",
       "      <th>Exclusion of a Service</th>\n",
       "      <th>Lack of Medical Necessity, excluding Behavioral Health</th>\n",
       "      <th>an Out-Of-Network Provider/Claims</th>\n",
       "      <th>Lack of Medical Necessity, Behavioral Health only</th>\n",
       "      <th>Enrollee Benefit Limit Reached</th>\n",
       "      <th>Member Not Covered During All or Part of Date of Service</th>\n",
       "      <th>Investigational, Experimental, or Cosmetic Procedure</th>\n",
       "      <th>Administrative Reasons</th>\n",
       "      <th>Other Reasons</th>\n",
       "    </tr>\n",
       "  </thead>\n",
       "  <tbody>\n",
       "    <tr>\n",
       "      <th>Unnamed: 1</th>\n",
       "      <td>34646146</td>\n",
       "      <td>7336844</td>\n",
       "      <td>2233472</td>\n",
       "      <td>852768</td>\n",
       "      <td>2366947</td>\n",
       "      <td>48873</td>\n",
       "      <td>338505</td>\n",
       "      <td>1810</td>\n",
       "      <td>8396</td>\n",
       "      <td>299211</td>\n",
       "      <td>590427</td>\n",
       "      <td>461137</td>\n",
       "      <td>3456324</td>\n",
       "    </tr>\n",
       "  </tbody>\n",
       "</table>\n",
       "</div>"
      ],
      "text/plain": [
       "Values      Claims That Were Received in 2023  \\\n",
       "Unnamed: 1                           34646146   \n",
       "\n",
       "Values      Claims That Were Denied in 2023  \\\n",
       "Unnamed: 1                          7336844   \n",
       "\n",
       "Values      Claims That Were Resubmitted in 2023  \\\n",
       "Unnamed: 1                               2233472   \n",
       "\n",
       "Values      Prior Authorization or Referral Required   \\\n",
       "Unnamed: 1                                     852768   \n",
       "\n",
       "Values      Exclusion of a Service   \\\n",
       "Unnamed: 1                  2366947   \n",
       "\n",
       "Values      Lack of Medical Necessity, excluding Behavioral Health   \\\n",
       "Unnamed: 1                                              48873         \n",
       "\n",
       "Values      an Out-Of-Network Provider/Claims   \\\n",
       "Unnamed: 1                              338505   \n",
       "\n",
       "Values      Lack of Medical Necessity, Behavioral Health only  \\\n",
       "Unnamed: 1                                               1810   \n",
       "\n",
       "Values      Enrollee Benefit Limit Reached   \\\n",
       "Unnamed: 1                             8396   \n",
       "\n",
       "Values      Member Not Covered During All or Part of Date of Service   \\\n",
       "Unnamed: 1                                             299211           \n",
       "\n",
       "Values      Investigational, Experimental, or Cosmetic Procedure   \\\n",
       "Unnamed: 1                                             590427       \n",
       "\n",
       "Values      Administrative Reasons  Other Reasons   \n",
       "Unnamed: 1                   461137        3456324  "
      ]
     },
     "execution_count": 127,
     "metadata": {},
     "output_type": "execute_result"
    }
   ],
   "source": [
    "pl_df2.rename"
   ]
  },
  {
   "cell_type": "code",
   "execution_count": null,
   "id": "39cb66a3-bcfa-4fc4-9031-37215d53d82e",
   "metadata": {},
   "outputs": [],
   "source": []
  }
 ],
 "metadata": {
  "kernelspec": {
   "display_name": "Python 3 (ipykernel)",
   "language": "python",
   "name": "python3"
  },
  "language_info": {
   "codemirror_mode": {
    "name": "ipython",
    "version": 3
   },
   "file_extension": ".py",
   "mimetype": "text/x-python",
   "name": "python",
   "nbconvert_exporter": "python",
   "pygments_lexer": "ipython3",
   "version": "3.10.9"
  }
 },
 "nbformat": 4,
 "nbformat_minor": 5
}
